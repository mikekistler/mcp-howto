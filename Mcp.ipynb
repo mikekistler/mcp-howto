{
 "cells": [
  {
   "cell_type": "markdown",
   "id": "fb00dc65",
   "metadata": {},
   "source": [
    "# Mcp Protocol Messages"
   ]
  },
  {
   "cell_type": "markdown",
   "id": "d6736aa7",
   "metadata": {},
   "source": [
    "## Initialize"
   ]
  },
  {
   "cell_type": "code",
   "execution_count": null,
   "metadata": {
    "language_info": {
     "name": "polyglot-notebook"
    },
    "polyglot_notebook": {
     "kernelName": "pwsh"
    }
   },
   "outputs": [],
   "source": []
  },
  {
   "cell_type": "markdown",
   "id": "2a025651",
   "metadata": {},
   "source": [
    "## Tools List"
   ]
  },
  {
   "cell_type": "code",
   "execution_count": 2,
   "metadata": {
    "language_info": {
     "name": "polyglot-notebook"
    },
    "polyglot_notebook": {
     "kernelName": "pwsh"
    }
   },
   "outputs": [
    {
     "name": "stdout",
     "output_type": "stream",
     "text": [
      "{\n",
      "  \"result\": {\n",
      "    \"tools\": [\n",
      "      {\n",
      "        \"name\": \"echo\",\n",
      "        \"title\": \"Echo Tool\",\n",
      "        \"description\": \"Echoes the message back to the client.\",\n",
      "        \"inputSchema\": {\n",
      "          \"type\": \"object\",\n",
      "          \"properties\": {\n",
      "            \"message\": {\n",
      "              \"type\": \"string\"\n",
      "            }\n",
      "          },\n",
      "          \"required\": [\n",
      "            \"message\"\n",
      "          ]\n",
      "        },\n",
      "        \"annotations\": {\n",
      "          \"title\": \"Echo Tool\"\n",
      "        }\n",
      "      }\n",
      "    ]\n",
      "  },\n",
      "  \"id\": 1,\n",
      "  \"jsonrpc\": \"2.0\"\n",
      "}\n"
     ]
    }
   ],
   "source": [
    "curl -s -X POST http://localhost:3001 `\n",
    "-H \"ProtocolVersion: 2025-06-18\" `\n",
    "-H \"Accept: application/json, text/event-stream\" `\n",
    "-H \"Content-Type: application/json\" `\n",
    "-d '{\n",
    "    \"jsonrpc\": \"2.0\",\n",
    "    \"id\": 1,\n",
    "    \"method\": \"tools/list\"\n",
    "}' | Where-Object { $_ -like \"data:*\" } | ForEach-Object { $_.Substring(5) } | jq"
   ]
  },
  {
   "cell_type": "markdown",
   "id": "6c7c5ac9",
   "metadata": {},
   "source": [
    "## Tool Call"
   ]
  },
  {
   "cell_type": "code",
   "execution_count": null,
   "id": "0986d534",
   "metadata": {
    "language_info": {
     "name": "polyglot-notebook"
    },
    "polyglot_notebook": {
     "kernelName": "pwsh"
    }
   },
   "outputs": [],
   "source": [
    "curl -s -X POST http://localhost:3001 `\n",
    "-H \"ProtocolVersion: 2025-06-18\" `\n",
    "-H \"Accept: application/json, text/event-stream\" `\n",
    "-H \"Content-Type: application/json\" `\n",
    "-d '{\n",
    "    \"jsonrpc\": \"2.0\",\n",
    "    \"id\": 2,\n",
    "    \"method\": \"tools/call\",\n",
    "    \"params\": {\n",
    "        \"name\": \"get_products\"\n",
    "    }\n",
    "}' | Where-Object { $_ -like \"data:*\" } | ForEach-Object { $_.Substring(5) } | jq"
   ]
  }
 ],
 "metadata": {
  "kernelspec": {
   "display_name": ".NET (PowerShell)",
   "language": "PowerShell",
   "name": ".net-pwsh"
  },
  "language_info": {
   "name": "polyglot-notebook"
  },
  "polyglot_notebook": {
   "kernelInfo": {
    "defaultKernelName": "pwsh",
    "items": [
     {
      "aliases": [],
      "languageName": "pwsh",
      "name": "pwsh"
     }
    ]
   }
  }
 },
 "nbformat": 4,
 "nbformat_minor": 5
}
