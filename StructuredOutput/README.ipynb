{
 "cells": [
  {
   "cell_type": "markdown",
   "id": "37868ee2",
   "metadata": {
    "language_info": {
     "name": "polyglot-notebook"
    },
    "polyglot_notebook": {
     "kernelName": "csharp"
    }
   },
   "source": [
    "## Structured Tool Output\n",
    "\n",
    "Another important addition in the 2025-06-18 spec is support for **structured tool output**.\n",
    "Previously, tool results were allowed to contain structured data but the host/LLM had to perform the parsing and interpretation\n",
    "without any guidance from the tool itself.\n",
    "Now, tools can return structured content that is explicitly defined, allowing AI models to better understand and process the output.\n"
   ]
  },
  {
   "cell_type": "markdown",
   "id": "4b1e2160",
   "metadata": {},
   "source": [
    "\n",
    "The C# SDK supports this by allowing tools to specify that their output is structured, with the [UseStructuredContent] parameter of the [McpServerTool] attribute.\n",
    "\n",
    "[McpServerTool]: https://modelcontextprotocol.github.io/csharp-sdk/api/ModelContextProtocol.Server.McpServerToolAttribute.html\n",
    "[UseStructuredContent]: https://modelcontextprotocol.github.io/csharp-sdk/api/ModelContextProtocol.Server.McpServerToolAttribute.html#ModelContextProtocol_Server_McpServerToolAttribute_UseStructuredContent\n",
    "\n",
    "```csharp\n",
    "[McpServerTool(UseStructuredContent = true), Description(\"Gets a list of structured product data with detailed information.\")]\n",
    "public static List<Product> GetProducts(int count = 5)\n",
    "```\n"
   ]
  },
  {
   "cell_type": "markdown",
   "id": "093a7d4f",
   "metadata": {},
   "source": [
    "\n",
    "The C# SDK will generate a JSON schema for the tool's output based on the return type of the method\n",
    "and will include this schema in the tool's metadata. Here is an example of the response to a `tools/list` call\n",
    "that shows the output schema for the `get_products` tool:"
   ]
  },
  {
   "cell_type": "code",
   "execution_count": null,
   "id": "3324ec56",
   "metadata": {
    "language_info": {
     "name": "polyglot-notebook"
    },
    "polyglot_notebook": {
     "kernelName": "pwsh"
    }
   },
   "outputs": [],
   "source": [
    "curl -s -X POST http://localhost:3001 `\n",
    "-H \"ProtocolVersion: 2025-06-18\" `\n",
    "-H \"Accept: application/json, text/event-stream\" `\n",
    "-H \"Content-Type: application/json\" `\n",
    "-d '{\n",
    "    \"jsonrpc\": \"2.0\",\n",
    "    \"id\": 1,\n",
    "    \"method\": \"tools/list\"\n",
    "}' | Where-Object { $_ -like \"data:*\" } | ForEach-Object { $_.Substring(5) } | jq"
   ]
  },
  {
   "cell_type": "markdown",
   "id": "4c28e72d",
   "metadata": {},
   "source": [
    "\n",
    "And when the tool is called, the tool response will include the structured output in the `result.structuredContent` field:"
   ]
  },
  {
   "cell_type": "code",
   "execution_count": null,
   "id": "91842c68",
   "metadata": {
    "language_info": {
     "name": "polyglot-notebook"
    },
    "polyglot_notebook": {
     "kernelName": "pwsh"
    }
   },
   "outputs": [],
   "source": [
    "curl -s -X POST http://localhost:3001 `\n",
    "-H \"ProtocolVersion: 2025-06-18\" `\n",
    "-H \"Accept: application/json, text/event-stream\" `\n",
    "-H \"Content-Type: application/json\" `\n",
    "-d '{\n",
    "    \"jsonrpc\": \"2.0\",\n",
    "    \"id\": 2,\n",
    "    \"method\": \"tools/call\",\n",
    "    \"params\": {\n",
    "        \"name\": \"get_products\"\n",
    "    }\n",
    "}' | Where-Object { $_ -like \"data:*\" } | ForEach-Object { $_.Substring(5) } | jq"
   ]
  }
 ],
 "metadata": {
  "kernelspec": {
   "display_name": ".NET (C#)",
   "language": "C#",
   "name": ".net-csharp"
  },
  "language_info": {
   "name": "polyglot-notebook"
  },
  "polyglot_notebook": {
   "kernelInfo": {
    "defaultKernelName": "csharp",
    "items": [
     {
      "aliases": [],
      "languageName": "csharp",
      "name": "csharp"
     }
    ]
   }
  }
 },
 "nbformat": 4,
 "nbformat_minor": 5
}
